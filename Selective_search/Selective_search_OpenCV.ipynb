{
 "cells": [
  {
   "cell_type": "code",
   "execution_count": 1,
   "id": "cfbe450b",
   "metadata": {},
   "outputs": [],
   "source": [
    "# import the necessary packages\n",
    "import argparse\n",
    "import random\n",
    "import time\n",
    "import cv2\n",
    "\n",
    "def selective_search(image_path, segmentation_type):\n",
    "    \n",
    "    # load the input image\n",
    "    image = cv2.imread(image_path)\n",
    "    # initialize OpenCV's selective search implementation and set the\n",
    "    # input image\n",
    "    ss = cv2.ximgproc.segmentation.createSelectiveSearchSegmentation()\n",
    "    ss.setBaseImage(image)\n",
    "    # check to see if we are using the *fast* but *less accurate* version\n",
    "    # of selective search\n",
    "    if segmentation_type == \"fast\":\n",
    "        print(\"[INFO] using *fast* selective search\")\n",
    "        ss.switchToSelectiveSearchFast()\n",
    "    # otherwise we are using the *slower* but *more accurate* version\n",
    "    else:\n",
    "        print(\"[INFO] using *quality* selective search\")\n",
    "        ss.switchToSelectiveSearchQuality()\n",
    "\n",
    "    # run selective search on the input image\n",
    "    start = time.time()\n",
    "    rects = ss.process()\n",
    "    end = time.time()\n",
    "    # show how along selective search took to run along with the total\n",
    "    # number of returned region proposals\n",
    "    print(\"[INFO] selective search took {:.4f} seconds\".format(end - start))\n",
    "    print(\"[INFO] {} total region proposals\".format(len(rects)))\n",
    "    \n",
    "    # loop over the region proposals in chunks (so we can better\n",
    "    # visualize them)\n",
    "    for i in range(0, len(rects), 100):\n",
    "        # clone the original image so we can draw on it\n",
    "        output = image.copy()\n",
    "        # loop over the current subset of region proposals\n",
    "        for (x, y, w, h) in rects[i:i + 100]:\n",
    "            # draw the region proposal bounding box on the image\n",
    "            color = [random.randint(0, 255) for j in range(0, 3)]\n",
    "            cv2.rectangle(output, (x, y), (x + w, y + h), color, 2)\n",
    "        # show the output image\n",
    "        cv2.imshow(\"Output\", output)\n",
    "        key = cv2.waitKey(0) & 0xFF\n",
    "        # if the `q` key was pressed, break from the loop\n",
    "        if key == ord(\"q\"):\n",
    "            break"
   ]
  },
  {
   "cell_type": "code",
   "execution_count": null,
   "id": "768d6e69",
   "metadata": {},
   "outputs": [
    {
     "name": "stdout",
     "output_type": "stream",
     "text": [
      "[INFO] using *fast* selective search\n",
      "[INFO] selective search took 5.7127 seconds\n",
      "[INFO] 631 total region proposals\n"
     ]
    }
   ],
   "source": [
    "selective_search('../images/rgb.png', 'fast')"
   ]
  },
  {
   "cell_type": "code",
   "execution_count": null,
   "id": "512ccf0a",
   "metadata": {},
   "outputs": [],
   "source": []
  }
 ],
 "metadata": {
  "kernelspec": {
   "display_name": "yolov8",
   "language": "python",
   "name": "yolov8"
  },
  "language_info": {
   "codemirror_mode": {
    "name": "ipython",
    "version": 3
   },
   "file_extension": ".py",
   "mimetype": "text/x-python",
   "name": "python",
   "nbconvert_exporter": "python",
   "pygments_lexer": "ipython3",
   "version": "3.10.9"
  }
 },
 "nbformat": 4,
 "nbformat_minor": 5
}
